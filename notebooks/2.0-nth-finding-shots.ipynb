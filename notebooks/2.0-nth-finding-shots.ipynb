{
 "cells": [
  {
   "cell_type": "code",
   "execution_count": 12,
   "metadata": {},
   "outputs": [],
   "source": [
    "import pandas as pd\n",
    "import numpy as np\n",
    "\n",
    "df = pd.read_json(\"../data/raw/motion/0021500001.json\",lines=True,orient='columns')\n"
   ]
  },
  {
   "cell_type": "code",
   "execution_count": 4,
   "metadata": {},
   "outputs": [
    {
     "data": {
      "text/plain": [
       "1"
      ]
     },
     "execution_count": 4,
     "metadata": {},
     "output_type": "execute_result"
    }
   ],
   "source": [
    "len(df['events'])"
   ]
  },
  {
   "cell_type": "code",
   "execution_count": 7,
   "metadata": {},
   "outputs": [
    {
     "name": "stdout",
     "output_type": "stream",
     "text": [
      "(5533, 6)\n",
      "(5533, 6)\n"
     ]
    },
    {
     "data": {
      "text/plain": [
       "0       21.40\n",
       "1       21.40\n",
       "2       21.40\n",
       "3       21.40\n",
       "4       21.40\n",
       "        ...  \n",
       "5528    19.33\n",
       "5529    19.33\n",
       "5530    19.33\n",
       "5531    19.33\n",
       "5532    19.33\n",
       "Name: shot_clock, Length: 5533, dtype: float64"
      ]
     },
     "execution_count": 7,
     "metadata": {},
     "output_type": "execute_result"
    }
   ],
   "source": [
    "columns=['player_id','team_id','loc_x','loc_y','ball_z','shot_clock']\n",
    "a_list = []\n",
    "moments = df['events'][0][4]['moments']\n",
    "\n",
    "for moment_num, moment in enumerate(moments):\n",
    "    locations = moment[5]\n",
    "    \n",
    "    time = moment[3]\n",
    "    \n",
    "    time_array_length = np.shape(locations)[0]\n",
    "\n",
    "    time_array = np.full((time_array_length,1),fill_value=time)\n",
    "\n",
    "    np.hstack((locations,time_array))\n",
    "\n",
    "    a_list.append(np.hstack((locations,time_array)))\n",
    "\n",
    "desired_shape = (np.shape(a_list)[0]*np.shape(a_list)[1],6)\n",
    "print(desired_shape)\n",
    "a_list = np.reshape(a_list,desired_shape)\n",
    "print(np.shape(a_list))\n",
    "\n",
    "#Desired shape is np.shape(a_list)[0]*np.shape(a_list)[1],6\n",
    "pd.DataFrame(a_list,columns=columns)['shot_clock']"
   ]
  },
  {
   "cell_type": "code",
   "execution_count": 6,
   "metadata": {},
   "outputs": [
    {
     "name": "stderr",
     "output_type": "stream",
     "text": [
      "E:\\Python\\lib\\site-packages\\numpy\\core\\_asarray.py:83: VisibleDeprecationWarning: Creating an ndarray from ragged nested sequences (which is a list-or-tuple of lists-or-tuples-or ndarrays with different lengths or shapes) is deprecated. If you meant to do this, you must specify 'dtype=object' when creating the ndarray\n",
      "  return array(a, dtype, copy=False, order=order)\n"
     ]
    },
    {
     "data": {
      "text/plain": [
       "(128, 6)"
      ]
     },
     "execution_count": 6,
     "metadata": {},
     "output_type": "execute_result"
    }
   ],
   "source": [
    "np.shape(df['events'][0][3]['moments'])"
   ]
  },
  {
   "cell_type": "code",
   "execution_count": 10,
   "metadata": {},
   "outputs": [
    {
     "data": {
      "text/plain": [
       "(128, 6)"
      ]
     },
     "execution_count": 10,
     "metadata": {},
     "output_type": "execute_result"
    }
   ],
   "source": [
    "np.shape(df['events'][0][3]['moments'])"
   ]
  },
  {
   "cell_type": "code",
   "execution_count": 25,
   "metadata": {},
   "outputs": [
    {
     "name": "stdout",
     "output_type": "stream",
     "text": [
      "64 (10, 6)\n"
     ]
    }
   ],
   "source": [
    "df = pd.read_json('../data/raw/motion/0021500001.json',lines=True,orient='columns')\n",
    "\n",
    "a_list = []\n",
    "moments = df['events'][0][4]['moments']\n",
    "\n",
    "for num,moment in enumerate(moments):\n",
    "    locations = np.array(moment[5])\n",
    "            \n",
    "    time = moment[3]\n",
    "    time_array_length = np.shape(locations)[0]\n",
    "    time_array = np.full((time_array_length,1),fill_value=time)\n",
    "\n",
    "    stacked = np.hstack((locations,time_array))\n",
    "\n",
    "    if (np.shape(stacked)==(11,6)):\n",
    "        a_list.append(stacked)\n",
    "    else:\n",
    "        continue\n",
    "\n"
   ]
  },
  {
   "cell_type": "code",
   "execution_count": null,
   "metadata": {},
   "outputs": [],
   "source": []
  }
 ],
 "metadata": {
  "interpreter": {
   "hash": "49fdda9a8f1b43ecf94cbf6adfec0c9149aed4e40f425dad389976f3db3c5b4b"
  },
  "kernelspec": {
   "display_name": "Python 3.9.5 64-bit",
   "language": "python",
   "name": "python3"
  },
  "language_info": {
   "codemirror_mode": {
    "name": "ipython",
    "version": 3
   },
   "file_extension": ".py",
   "mimetype": "text/x-python",
   "name": "python",
   "nbconvert_exporter": "python",
   "pygments_lexer": "ipython3",
   "version": "3.9.5"
  },
  "orig_nbformat": 4
 },
 "nbformat": 4,
 "nbformat_minor": 2
}
